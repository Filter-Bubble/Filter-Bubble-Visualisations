{
 "cells": [
  {
   "cell_type": "markdown",
   "metadata": {},
   "source": [
    "# Filter Bubble | Visualisations"
   ]
  },
  {
   "cell_type": "markdown",
   "metadata": {},
   "source": [
    "This _Jupyter Notebook_ generates visualisations based on mobile browser history and a survey."
   ]
  },
  {
   "cell_type": "markdown",
   "metadata": {},
   "source": [
    "## Import"
   ]
  },
  {
   "cell_type": "markdown",
   "metadata": {},
   "source": [
    "Let's start by importing the relevant packages."
   ]
  },
  {
   "cell_type": "code",
   "execution_count": null,
   "metadata": {},
   "outputs": [],
   "source": [
    "import pandas"
   ]
  },
  {
   "cell_type": "markdown",
   "metadata": {},
   "source": [
    "## Qualtrics"
   ]
  },
  {
   "cell_type": "markdown",
   "metadata": {},
   "source": [
    "Both the _Qualtrics_ survey data and the _Passive Data Kit_ browser history data are privacy sensitive, so the _data_ directory is _gitignored_ in the GitHub repository. Also remember to _clear_ all output cells before saving this _Jupyter Notebook_ and pushing it to the repository, to ensure no personal information is released."
   ]
  },
  {
   "cell_type": "markdown",
   "metadata": {},
   "source": [
    "### Data File"
   ]
  },
  {
   "cell_type": "markdown",
   "metadata": {},
   "source": [
    "The Qualtrics data was exported in _CSV_ format and saved in the _data_ directory."
   ]
  },
  {
   "cell_type": "code",
   "execution_count": null,
   "metadata": {},
   "outputs": [],
   "source": [
    "dataFileQualtrics = \"data\\Qualtrics.csv\""
   ]
  },
  {
   "cell_type": "markdown",
   "metadata": {},
   "source": [
    "We can import this into a _Pandas dataframe_, taking into account the relevant _dtypes_."
   ]
  },
  {
   "cell_type": "code",
   "execution_count": null,
   "metadata": {},
   "outputs": [],
   "source": [
    "qualtricsUnionWaves = pandas.read_csv(dataFileQualtrics, sep=\",\", header=[0,1,2], dtype={'Duration (in seconds)': int})\n",
    "qualtricsUnionWaves.head(3)"
   ]
  },
  {
   "cell_type": "markdown",
   "metadata": {},
   "source": [
    "The data file contains three rows as headers, however, we would like to only keep one. First, the second and third row are saved in a seperate dataframe."
   ]
  },
  {
   "cell_type": "code",
   "execution_count": null,
   "metadata": {},
   "outputs": [],
   "source": [
    "qualtricsHeader = qualtricsUnionWaves.columns.to_frame().T.drop(0)\n",
    "qualtricsHeader.columns = qualtricsHeader.columns.droplevel([1, 2])\n",
    "qualtricsHeader"
   ]
  },
  {
   "cell_type": "markdown",
   "metadata": {},
   "source": [
    "Then, these rows are removed from the Qualtrics dataframe."
   ]
  },
  {
   "cell_type": "code",
   "execution_count": null,
   "metadata": {},
   "outputs": [],
   "source": [
    "qualtricsUnionWaves.columns = qualtricsUnionWaves.columns.droplevel([1, 2])\n",
    "qualtricsUnionWaves.head(3)"
   ]
  },
  {
   "cell_type": "markdown",
   "metadata": {},
   "source": [
    "The column _Q70_ contains the email address of the participant. This is needed to map the entries of the first wave and the second wave of Qualtrics data."
   ]
  },
  {
   "cell_type": "code",
   "execution_count": null,
   "metadata": {},
   "outputs": [],
   "source": [
    "qualtricsHeader[[\"Q70\"]]"
   ]
  },
  {
   "cell_type": "markdown",
   "metadata": {},
   "source": [
    "Let's hash this column so we can visualise the data in this _Jupyter Notebook_ without immediately exposing privacy sensitive data."
   ]
  },
  {
   "cell_type": "code",
   "execution_count": null,
   "metadata": {},
   "outputs": [],
   "source": [
    "qualtricsUnionWaves[\"Q70\"] = [hash(x) for x in qualtricsUnionWaves[\"Q70\"]]"
   ]
  },
  {
   "cell_type": "markdown",
   "metadata": {},
   "source": [
    "We will set column _Q70_ as the index of the dataframe."
   ]
  },
  {
   "cell_type": "code",
   "execution_count": null,
   "metadata": {},
   "outputs": [],
   "source": [
    "qualtricsUnionWaves = qualtricsUnionWaves.set_index(\"Q70\")\n",
    "qualtricsUnionWaves.head(3)"
   ]
  },
  {
   "cell_type": "markdown",
   "metadata": {},
   "source": [
    "Then, we split the data into first and second wave using the answer to question _Q72_."
   ]
  },
  {
   "cell_type": "code",
   "execution_count": null,
   "metadata": {},
   "outputs": [],
   "source": [
    "qualtricsHeader[[\"Q72\"]]"
   ]
  },
  {
   "cell_type": "markdown",
   "metadata": {},
   "source": [
    "We'll also append numbers '_1' and '_2' to the column names to differentiate between the two waves."
   ]
  },
  {
   "cell_type": "code",
   "execution_count": null,
   "metadata": {},
   "outputs": [],
   "source": [
    "qualtricsFirstWave = qualtricsUnionWaves[qualtricsUnionWaves[\"Q72\"] == \"Ja\"]\n",
    "qualtricsFirstWave.columns = [x + \"_1\" for x in qualtricsFirstWave.columns]\n",
    "qualtricsFirstWave.head(3)"
   ]
  },
  {
   "cell_type": "code",
   "execution_count": null,
   "metadata": {},
   "outputs": [],
   "source": [
    "qualtricsSecondWave = qualtricsUnionWaves[qualtricsUnionWaves[\"Q72\"] == \"Nee\"]\n",
    "qualtricsSecondWave.columns = [x + \"_2\" for x in qualtricsSecondWave.columns]\n",
    "qualtricsSecondWave.head(3)"
   ]
  },
  {
   "cell_type": "markdown",
   "metadata": {},
   "source": [
    "Let's start by listing hashed email addresses of all participants who showed up in the first wave."
   ]
  },
  {
   "cell_type": "code",
   "execution_count": null,
   "metadata": {},
   "outputs": [],
   "source": [
    "participantsFirstWave = qualtricsFirstWave.index.unique()\n",
    "len(participantsFirstWave)"
   ]
  },
  {
   "cell_type": "markdown",
   "metadata": {},
   "source": [
    "Some participants may drop out between the first and second wave. These will only show up in the index of the dataframe of the first wave, but not in the index of the dataframe of the second wave."
   ]
  },
  {
   "cell_type": "code",
   "execution_count": null,
   "metadata": {},
   "outputs": [],
   "source": [
    "participantsSecondWave = qualtricsSecondWave.index.unique()\n",
    "len(participantsSecondWave)"
   ]
  },
  {
   "cell_type": "markdown",
   "metadata": {},
   "source": [
    "We can see which participants entered both waves by examining the intersection of the indices of both dataframes."
   ]
  },
  {
   "cell_type": "code",
   "execution_count": null,
   "metadata": {},
   "outputs": [],
   "source": [
    "participantsIntersectionWaves = qualtricsSecondWave.index.intersection(participantsFirstWave)\n",
    "len(participantsIntersectionWaves)"
   ]
  },
  {
   "cell_type": "markdown",
   "metadata": {},
   "source": [
    "Some _only_ did the first wave, which we can find by taking the difference with the index of the second wave dataframe."
   ]
  },
  {
   "cell_type": "code",
   "execution_count": null,
   "metadata": {},
   "outputs": [],
   "source": [
    "participantsOnlyFirstWave = participantsFirstWave.difference(participantsSecondWave)\n",
    "len(participantsOnlyFirstWave)"
   ]
  },
  {
   "cell_type": "markdown",
   "metadata": {},
   "source": [
    "It may occur that some entered _Yes_ to question _Q72_ even though they did not participate in both waves. This can be examined by taking the differences of the indices."
   ]
  },
  {
   "cell_type": "code",
   "execution_count": null,
   "metadata": {},
   "outputs": [],
   "source": [
    "participantsOnlySecondWave = qualtricsSecondWave.index.difference(participantsFirstWave)\n",
    "len(participantsOnlySecondWave)"
   ]
  },
  {
   "cell_type": "markdown",
   "metadata": {},
   "source": [
    "Such participants may simply be removed from the data, but let's examine these outliers more carefully first. We can list the number of unanswered questions and compare this with the number of unanswered questions of other participants."
   ]
  },
  {
   "cell_type": "code",
   "execution_count": null,
   "metadata": {},
   "outputs": [],
   "source": [
    "qualtricsSecondWave.loc[participantsOnlySecondWave].T.isna().sum().to_frame()"
   ]
  },
  {
   "cell_type": "code",
   "execution_count": null,
   "metadata": {},
   "outputs": [],
   "source": [
    "qualtricsSecondWave.loc[participantsIntersectionWaves].T.isna().sum().mean()"
   ]
  },
  {
   "cell_type": "markdown",
   "metadata": {},
   "source": [
    "We can list the time they spent on the survey and compare this to the average time spent by other participants."
   ]
  },
  {
   "cell_type": "code",
   "execution_count": null,
   "metadata": {
    "scrolled": true
   },
   "outputs": [],
   "source": [
    "qualtricsSecondWave.loc[participantsOnlySecondWave][[\"Duration (in seconds)_2\"]]"
   ]
  },
  {
   "cell_type": "markdown",
   "metadata": {},
   "source": [
    "We can list the time they spent on the survey and compare this to the average time spent by other participants."
   ]
  },
  {
   "cell_type": "code",
   "execution_count": null,
   "metadata": {},
   "outputs": [],
   "source": [
    "qualtricsSecondWave.loc[participantsIntersectionWaves][\"Duration (in seconds)_2\"].mean()"
   ]
  },
  {
   "cell_type": "markdown",
   "metadata": {},
   "source": [
    "If we determine these participants did not take the survey seriously, we can remove them from the data and continue with a smaller dataframe for the second wave."
   ]
  },
  {
   "cell_type": "code",
   "execution_count": null,
   "metadata": {},
   "outputs": [],
   "source": [
    "qualtricsSecondWave = qualtricsSecondWave.loc[participantsIntersectionWaves]"
   ]
  },
  {
   "cell_type": "markdown",
   "metadata": {},
   "source": [
    "We can join the dataframes of the first and of the second wave on the indices (the hashed email addresses), remembering that we had already appended '_1' and '_2' to the column names previously to differentiate between the waves."
   ]
  },
  {
   "cell_type": "code",
   "execution_count": null,
   "metadata": {},
   "outputs": [],
   "source": [
    "dataFrameQualtrics = pandas.concat([qualtricsFirstWave, qualtricsSecondWave], axis=1, sort=False)\n",
    "dataFrameQualtrics.head(3)"
   ]
  },
  {
   "cell_type": "markdown",
   "metadata": {},
   "source": [
    "Each participants was also given an ID by _Web Historian_, though a different one in the first and in the second wave. Now that the dataframes are joined, we can see which ID's belong together. Only participants who finished the second wave will have a second ID."
   ]
  },
  {
   "cell_type": "code",
   "execution_count": null,
   "metadata": {},
   "outputs": [],
   "source": [
    "qualtricsIdMap = dataFrameQualtrics[[\"idRcvd_1\", \"idRcvd_2\"]]\n",
    "qualtricsIdMap.head(5)"
   ]
  },
  {
   "cell_type": "markdown",
   "metadata": {},
   "source": [
    "Let's also merge these Web Historians ID's into a list."
   ]
  },
  {
   "cell_type": "code",
   "execution_count": null,
   "metadata": {},
   "outputs": [],
   "source": [
    "qualtricsIdListFirstWave = dataFrameQualtrics[\"idRcvd_1\"][pandas.notna(dataFrameQualtrics[\"idRcvd_1\"])].tolist()\n",
    "qualtricsIdListSecondWave = dataFrameQualtrics[\"idRcvd_2\"][pandas.notna(dataFrameQualtrics[\"idRcvd_2\"])].tolist()\n",
    "qualtricsIdListUnionWaves = qualtricsIdListFirstWave + qualtricsIdListSecondWave\n",
    "qualtricsIdListUnionWaves"
   ]
  },
  {
   "cell_type": "markdown",
   "metadata": {},
   "source": [
    "For participants who entered both waves, this can be transformed into a dictionary from the first wave ID to the second wave ID."
   ]
  },
  {
   "cell_type": "code",
   "execution_count": null,
   "metadata": {
    "scrolled": true
   },
   "outputs": [],
   "source": [
    "qualtricsIdDictionary = qualtricsIdMap.loc[participantsIntersectionWaves].set_index(\"idRcvd_1\")[\"idRcvd_2\"].to_dict()\n",
    "qualtricsIdDictionary"
   ]
  },
  {
   "cell_type": "markdown",
   "metadata": {},
   "source": [
    "### Simple Metrics"
   ]
  },
  {
   "cell_type": "markdown",
   "metadata": {},
   "source": [
    "Let's look at some descriptive statistics of the data given by participants of both waves. We can start by examining the number of missing values per question."
   ]
  },
  {
   "cell_type": "code",
   "execution_count": null,
   "metadata": {},
   "outputs": [],
   "source": [
    "countNansQualtricsIntersectionWaves = dataFrameQualtrics.loc[participantsIntersectionWaves].isna().sum().to_frame()\n",
    "countNansQualtricsIntersectionWaves.T"
   ]
  },
  {
   "cell_type": "markdown",
   "metadata": {},
   "source": [
    "We can also plot this, remembering that when we joined the first and second wave data, every question was duplicated. Therefore, it makes sense that we should find large numbers of missing values."
   ]
  },
  {
   "cell_type": "code",
   "execution_count": null,
   "metadata": {},
   "outputs": [],
   "source": [
    "ax = countNansQualtricsIntersectionWaves.plot(kind=\"bar\", figsize=(15,5), legend=False)\n",
    "ax.set(ylabel=\"NaNs\", title=\"Number of NaN responses per question\")\n",
    "ax"
   ]
  },
  {
   "cell_type": "markdown",
   "metadata": {},
   "source": [
    "Perhaps more interestingly, let's examine the number of missing values per person."
   ]
  },
  {
   "cell_type": "code",
   "execution_count": null,
   "metadata": {},
   "outputs": [],
   "source": [
    "countNansPerPersonQualtricsIntersectionWaves = dataFrameQualtrics.loc[participantsIntersectionWaves].T.isna().sum().to_frame()\n",
    "countNansPerPersonQualtricsIntersectionWaves.T"
   ]
  },
  {
   "cell_type": "markdown",
   "metadata": {},
   "source": [
    "This, again, can be plotted."
   ]
  },
  {
   "cell_type": "code",
   "execution_count": null,
   "metadata": {},
   "outputs": [],
   "source": [
    "ax = countNansPerPersonQualtricsIntersectionWaves.plot(kind=\"bar\", figsize=(15,5), legend=False)\n",
    "ax.set(ylabel=\"NaNs\", title=\"Number of NaN responses per person\")\n",
    "ax"
   ]
  },
  {
   "cell_type": "markdown",
   "metadata": {},
   "source": [
    "Let's also examine the time is took for each participant to finish the survey."
   ]
  },
  {
   "cell_type": "code",
   "execution_count": null,
   "metadata": {},
   "outputs": [],
   "source": [
    "durationPerPersonQualtrics = dataFrameQualtrics[[\"Duration (in seconds)_1\"]]\n",
    "durationPerPersonQualtrics.T"
   ]
  },
  {
   "cell_type": "markdown",
   "metadata": {},
   "source": [
    "This, again, can be plotted."
   ]
  },
  {
   "cell_type": "code",
   "execution_count": null,
   "metadata": {},
   "outputs": [],
   "source": [
    "ax = durationPerPersonQualtrics.plot(kind=\"bar\", figsize=(15,5), legend=False)\n",
    "ax.set(ylabel=\"Time in seconds\", title=\"Duration per person\")\n",
    "ax"
   ]
  },
  {
   "cell_type": "markdown",
   "metadata": {},
   "source": [
    "## Passive Data Kit"
   ]
  },
  {
   "cell_type": "markdown",
   "metadata": {},
   "source": [
    "### Data File"
   ]
  },
  {
   "cell_type": "markdown",
   "metadata": {},
   "source": [
    "The _Passive Data Kit_ data is automaticaly split into multiple parts by the server when it is exported. Let's import each of these files into the same dataframe."
   ]
  },
  {
   "cell_type": "code",
   "execution_count": null,
   "metadata": {},
   "outputs": [],
   "source": [
    "dataFilesPassiveDataKit = [\"data\\pdk_web-historian_1.txt\", \"data\\pdk_web-historian_2.txt\"]\n",
    "dataFramePassiveDataKit = pandas.DataFrame()\n",
    "for dataFile in dataFilesPassiveDataKit:\n",
    "    dataFramePassiveDataKit = dataFramePassiveDataKit.append(pandas.read_csv(dataFile, sep=\"\\t\"))"
   ]
  },
  {
   "cell_type": "markdown",
   "metadata": {},
   "source": [
    "The _Source_ column contains the _Web Historian_ ID of the participants, which allows us to link this data with the Qualtrics data. Let's set the _Source_ as the index."
   ]
  },
  {
   "cell_type": "code",
   "execution_count": null,
   "metadata": {
    "scrolled": true
   },
   "outputs": [],
   "source": [
    "dataFramePassiveDataKit = dataFramePassiveDataKit.set_index(\"Source\")\n",
    "dataFramePassiveDataKit.head(3)"
   ]
  },
  {
   "cell_type": "markdown",
   "metadata": {},
   "source": [
    "If all went well, we should have browsing history data for each of the Qualtrics participants. Let's verify this by examining the intersection and the difference between the index of the Qualtrics dataframe and that of the Passive Data Kit dataframe."
   ]
  },
  {
   "cell_type": "code",
   "execution_count": null,
   "metadata": {},
   "outputs": [],
   "source": [
    "participantsPassiveDataKit = dataFramePassiveDataKit.index.unique()\n",
    "len(participantsPassiveDataKit)"
   ]
  },
  {
   "cell_type": "markdown",
   "metadata": {},
   "source": [
    "To find the participants who are found in both dataframes, let's take the intersection. Note that we are not using the Qualtrics index, which are the hashed email addresses, but the list of Web Historian ID's which we had previously placed into a list."
   ]
  },
  {
   "cell_type": "code",
   "execution_count": null,
   "metadata": {},
   "outputs": [],
   "source": [
    "participantsBothDataFrames = participantsPassiveDataKit.intersection(qualtricsIdListUnionWaves)\n",
    "len(participantsBothDataFrames)"
   ]
  },
  {
   "cell_type": "markdown",
   "metadata": {},
   "source": [
    "It might be that some ID's can be found in the Passive Data Kit dataframe which are not found in the Qualtrics dataframe."
   ]
  },
  {
   "cell_type": "code",
   "execution_count": null,
   "metadata": {},
   "outputs": [],
   "source": [
    "participantsPassiveDataKit.difference(qualtricsIdListUnionWaves)"
   ]
  },
  {
   "cell_type": "markdown",
   "metadata": {},
   "source": [
    "Vice versa, some ID's are possibly found in the Qualtrics dataframe which are not found in the Passive Data Kit dataframe."
   ]
  },
  {
   "cell_type": "code",
   "execution_count": null,
   "metadata": {},
   "outputs": [],
   "source": [
    "pandas.Index(qualtricsIdListUnionWaves).difference(participantsPassiveDataKit)"
   ]
  },
  {
   "cell_type": "markdown",
   "metadata": {},
   "source": [
    "For simplicity, let's just remove all these outliers and construct smaller dataframes for each wave. First, we adjust the list of participants."
   ]
  },
  {
   "cell_type": "code",
   "execution_count": null,
   "metadata": {},
   "outputs": [],
   "source": [
    "participantsBothDataFramesFirstWave = participantsBothDataFrames.intersection(qualtricsIdListFirstWave)\n",
    "participantsBothDataFramesSecondWave = participantsBothDataFrames.intersection(qualtricsIdListSecondWave)\n",
    "participantsBothDataFramesUnionWaves = participantsBothDataFrames.intersection(qualtricsIdListUnionWaves)"
   ]
  },
  {
   "cell_type": "markdown",
   "metadata": {},
   "source": [
    "We now filter the Passive Data Kit dataframe on the relevant participants."
   ]
  },
  {
   "cell_type": "code",
   "execution_count": null,
   "metadata": {},
   "outputs": [],
   "source": [
    "passiveDataKitFirstWave = dataFramePassiveDataKit.loc[participantsBothDataFramesFirstWave]\n",
    "passiveDataKitFirstWave.head(3)"
   ]
  },
  {
   "cell_type": "markdown",
   "metadata": {},
   "source": [
    "We now filter the Passive Data Kit dataframe on the relevant participants."
   ]
  },
  {
   "cell_type": "code",
   "execution_count": null,
   "metadata": {},
   "outputs": [],
   "source": [
    "passiveDataKitSecondWave = dataFramePassiveDataKit.loc[participantsBothDataFramesSecondWave]\n",
    "passiveDataKitSecondWave.head(3)"
   ]
  },
  {
   "cell_type": "markdown",
   "metadata": {},
   "source": [
    "We now filter the Passive Data Kit dataframe on the relevant participants. Note that this dataframe may contain duplicates from the browsing history of people who entered both waves."
   ]
  },
  {
   "cell_type": "code",
   "execution_count": null,
   "metadata": {},
   "outputs": [],
   "source": [
    "passiveDataKitUnionWaves = dataFramePassiveDataKit.loc[participantsBothDataFramesUnionWaves]\n",
    "passiveDataKitUnionWaves.head(3)"
   ]
  },
  {
   "cell_type": "markdown",
   "metadata": {},
   "source": [
    "### Simple Metrics"
   ]
  },
  {
   "cell_type": "markdown",
   "metadata": {},
   "source": [
    "It is interesting to see how long participants keep their browsing history for. Let's construct a column which measures the time between the first URL entry and the time the data was uploaded."
   ]
  },
  {
   "cell_type": "code",
   "execution_count": null,
   "metadata": {},
   "outputs": [],
   "source": [
    "passiveDataKitFirstWave['TimeSinceUrlVisit'] = passiveDataKitFirstWave['Recorded Timestamp'] - passiveDataKitFirstWave['Timestamp']"
   ]
  },
  {
   "cell_type": "markdown",
   "metadata": {},
   "source": [
    "The maximum of this time difference indicates the length of time since the browsing history was last cleared."
   ]
  },
  {
   "cell_type": "code",
   "execution_count": null,
   "metadata": {
    "scrolled": false
   },
   "outputs": [],
   "source": [
    "isMaxTimeSinceUrlVisitPassiveDataKit = passiveDataKitFirstWave.groupby(['Source'])['TimeSinceUrlVisit'].transform(max) == passiveDataKitFirstWave['TimeSinceUrlVisit']"
   ]
  },
  {
   "cell_type": "markdown",
   "metadata": {},
   "source": [
    "This time difference can be placed into a new dataframe."
   ]
  },
  {
   "cell_type": "code",
   "execution_count": null,
   "metadata": {},
   "outputs": [],
   "source": [
    "browsingHistoryTimeRange = passiveDataKitFirstWave[isMaxTimeSinceUrlVisitPassiveDataKit]['TimeSinceUrlVisit']"
   ]
  },
  {
   "cell_type": "markdown",
   "metadata": {},
   "source": [
    "We can plot the browsing history time range as a histogram."
   ]
  },
  {
   "cell_type": "code",
   "execution_count": null,
   "metadata": {},
   "outputs": [],
   "source": [
    "(browsingHistoryTimeRange/60/60/24).plot(kind='hist',title='Browsing history time range').get_figure().savefig(\"figures/BrowsingHistoryTimeRange.png\")"
   ]
  },
  {
   "cell_type": "markdown",
   "metadata": {},
   "source": [
    "We can also count the number of URL's per person."
   ]
  },
  {
   "cell_type": "code",
   "execution_count": null,
   "metadata": {},
   "outputs": [],
   "source": [
    "countUrlsPerPersonPassiveDataKit = passiveDataKitUnionWaves.groupby(['Source'])['URL'].count()"
   ]
  },
  {
   "cell_type": "markdown",
   "metadata": {},
   "source": [
    "And again plot this in a histogram."
   ]
  },
  {
   "cell_type": "code",
   "execution_count": null,
   "metadata": {},
   "outputs": [],
   "source": [
    "countUrlsPerPersonPassiveDataKit.plot(kind='hist',title='URL\\'s per person').get_figure().savefig(\"figures/CountUrlsPerPerson.png\")"
   ]
  },
  {
   "cell_type": "markdown",
   "metadata": {},
   "source": [
    "For the data entries which belong to the first wave, let's find the timestamp of their last entry."
   ]
  },
  {
   "cell_type": "code",
   "execution_count": null,
   "metadata": {},
   "outputs": [],
   "source": [
    "isEndOfFirstWave = passiveDataKitFirstWave.groupby(['Source'])['Timestamp'].transform(max) == passiveDataKitFirstWave['Timestamp']"
   ]
  },
  {
   "cell_type": "code",
   "execution_count": null,
   "metadata": {},
   "outputs": [],
   "source": [
    "dataFramePassiveDataKitEndOfFirstWave = passiveDataKitFirstWave[isEndOfFirstWave][['Timestamp']]\n",
    "dataFramePassiveDataKitEndOfFirstWave.head(3)"
   ]
  },
  {
   "cell_type": "markdown",
   "metadata": {},
   "source": [
    "For participants who entered both waves, let's change their Web Historian ID to the ID of the second wave."
   ]
  },
  {
   "cell_type": "code",
   "execution_count": null,
   "metadata": {},
   "outputs": [],
   "source": [
    "dataFramePassiveDataKitEndOfFirstWave.index = dataFramePassiveDataKitEndOfFirstWave.index.map(qualtricsIdDictionary)\n",
    "dataFramePassiveDataKitEndOfFirstWave = dataFramePassiveDataKitEndOfFirstWave.loc[participantsBothDataFramesSecondWave]\n",
    "dataFramePassiveDataKitEndOfFirstWave = dataFramePassiveDataKitEndOfFirstWave.rename(columns={\"Timestamp\": \"TimestampEndOfFirstWave\"})\n",
    "dataFramePassiveDataKitEndOfFirstWave"
   ]
  },
  {
   "cell_type": "markdown",
   "metadata": {},
   "source": [
    "Now we can append this column to the Passive Data Kit dataframe."
   ]
  },
  {
   "cell_type": "code",
   "execution_count": null,
   "metadata": {},
   "outputs": [],
   "source": [
    "dataFramePassiveDataKitSecondWave = pandas.concat([passiveDataKitSecondWave, dataFramePassiveDataKitEndOfFirstWave], axis=1, join_axes=[passiveDataKitSecondWave.index])\n",
    "dataFramePassiveDataKitSecondWave.head(3)"
   ]
  },
  {
   "cell_type": "markdown",
   "metadata": {},
   "source": [
    "This allows us to find all URL entries related to the period between the two waves."
   ]
  },
  {
   "cell_type": "code",
   "execution_count": null,
   "metadata": {},
   "outputs": [],
   "source": [
    "isBetweenWaves = dataFramePassiveDataKitSecondWave[\"TimestampEndOfFirstWave\"] < dataFramePassiveDataKitSecondWave[\"Timestamp\"]\n",
    "dataFramePassiveDataKitBetweenWaves = dataFramePassiveDataKitSecondWave[isBetweenWaves]\n",
    "dataFramePassiveDataKitBetweenWaves.head(3)"
   ]
  },
  {
   "cell_type": "markdown",
   "metadata": {},
   "source": [
    "We can count the number of URL's per person."
   ]
  },
  {
   "cell_type": "code",
   "execution_count": null,
   "metadata": {},
   "outputs": [],
   "source": [
    "countUrlsPassiveDataKitBetweenWaves = dataFramePassiveDataKitBetweenWaves.groupby(['Source'])['URL'].count()"
   ]
  },
  {
   "cell_type": "markdown",
   "metadata": {},
   "source": [
    "And plot this in a histogram."
   ]
  },
  {
   "cell_type": "code",
   "execution_count": null,
   "metadata": {},
   "outputs": [],
   "source": [
    "countUrlsPassiveDataKitBetweenWaves.plot(kind='hist',title='URL\\'s per person between waves').get_figure().savefig(\"figures/CountUrlsBetweenWaves.png\")"
   ]
  },
  {
   "cell_type": "markdown",
   "metadata": {},
   "source": [
    "We can add a bit more data to these URL counts. Let's start by finding the timestamp of the end of the second wave for each participant."
   ]
  },
  {
   "cell_type": "code",
   "execution_count": null,
   "metadata": {},
   "outputs": [],
   "source": [
    "isMaxTimeStampSecondWavePassiveDataKit = dataFramePassiveDataKitBetweenWaves.groupby(['Source'])['Timestamp'].transform(max) == dataFramePassiveDataKitBetweenWaves['Timestamp']\n",
    "dataFramePassiveDataKitEndOfSecondWave = dataFramePassiveDataKitBetweenWaves[isMaxTimeStampSecondWavePassiveDataKit][['Timestamp']]\n",
    "dataFramePassiveDataKitEndOfSecondWave = dataFramePassiveDataKitEndOfSecondWave.rename(columns={\"Timestamp\": \"TimestampEndOfSecondWave\"})\n",
    "dataFramePassiveDataKitEndOfSecondWave.head(3)"
   ]
  },
  {
   "cell_type": "markdown",
   "metadata": {},
   "source": [
    "Now we can join this with the timestamp of the end of the first wave and with the URL counts, and we can determine some additional metrics."
   ]
  },
  {
   "cell_type": "code",
   "execution_count": null,
   "metadata": {},
   "outputs": [],
   "source": [
    "countUrlsAndTimeBetweenWaves = pandas.concat([dataFramePassiveDataKitEndOfFirstWave, dataFramePassiveDataKitEndOfSecondWave, countUrlsPassiveDataKitBetweenWaves], axis=1, join_axes=[dataFramePassiveDataKitEndOfFirstWave.index])\n",
    "countUrlsAndTimeBetweenWaves[\"TimeDifference\"] = countUrlsAndTimeBetweenWaves[\"TimestampEndOfSecondWave\"] - countUrlsAndTimeBetweenWaves[\"TimestampEndOfFirstWave\"]\n",
    "countUrlsAndTimeBetweenWaves[\"UrlsPerDay\"] = countUrlsAndTimeBetweenWaves[\"URL\"] / countUrlsAndTimeBetweenWaves[\"TimeDifference\"] * 60 * 60 * 24\n",
    "countUrlsAndTimeBetweenWaves = countUrlsAndTimeBetweenWaves.rename(columns={\"URL\": \"UrlCount\"})\n",
    "countUrlsAndTimeBetweenWaves.to_csv(\"tables\\CountUrlsAndTimeBetweenWaves.csv\")\n",
    "countUrlsAndTimeBetweenWaves.head(3)"
   ]
  },
  {
   "cell_type": "markdown",
   "metadata": {},
   "source": [
    "For example, the URL count per day can also be plotted in a histogram."
   ]
  },
  {
   "cell_type": "code",
   "execution_count": null,
   "metadata": {},
   "outputs": [],
   "source": [
    "countUrlsAndTimeBetweenWaves[\"UrlsPerDay\"].plot(kind='hist',title='URL\\'s per person per day').get_figure().savefig(\"figures/CountUrlsPerDayBetweenWaves.png\")"
   ]
  },
  {
   "cell_type": "markdown",
   "metadata": {},
   "source": [
    "Let's now see if we can determine whether a URL was visited on a mobile device by checking for a mobile subdomain."
   ]
  },
  {
   "cell_type": "code",
   "execution_count": null,
   "metadata": {},
   "outputs": [],
   "source": [
    "isMobileUrl = dataFramePassiveDataKitBetweenWaves['URL'].str.match(\"^(http:\\/\\/|https:\\/\\/)?(m|mob|mobile)\\.([a-z0-9]+)*\\.[a-z]{2,5}(:[0-9]{1,5})?(\\/.*)?$\")"
   ]
  },
  {
   "cell_type": "markdown",
   "metadata": {},
   "source": [
    "We can count mobile URL's per participant."
   ]
  },
  {
   "cell_type": "code",
   "execution_count": null,
   "metadata": {},
   "outputs": [],
   "source": [
    "countMobileUrlsBetweenWaves = dataFramePassiveDataKitBetweenWaves[isMobileUrl].groupby(['Source'])['URL'].count()"
   ]
  },
  {
   "cell_type": "markdown",
   "metadata": {},
   "source": [
    "It would also be interesting to see if the mobile URL count depends on whether or not the participants were asked to sync their mobile devices before uploading their browsing history. This can be done by joining data from the Qualtrics survey."
   ]
  },
  {
   "cell_type": "code",
   "execution_count": null,
   "metadata": {},
   "outputs": [],
   "source": [
    "countMobileUrlsBetweenWaves = pandas.concat([dataFrameQualtrics.loc[participantsIntersectionWaves].set_index(\"idRcvd_2\")[[\"sync_1\"]], countMobileUrlsBetweenWaves], axis=1, sort=False)\n",
    "countMobileUrlsBetweenWaves\n",
    "countMobileUrlsBetweenWaves.to_csv(\"tables\\CountMobileUrlsBetweenWaves.csv\")\n",
    "countMobileUrlsBetweenWaves.head(3)"
   ]
  },
  {
   "cell_type": "markdown",
   "metadata": {},
   "source": [
    "Let's combine all participants into two groups, depending on whether or not they synced their borwsing history."
   ]
  },
  {
   "cell_type": "code",
   "execution_count": null,
   "metadata": {},
   "outputs": [],
   "source": [
    "countMobileUrlsBetweenWaves.groupby([\"sync_1\"])[\"URL\"].sum().to_frame().rename(columns={\"URL\": \"CountMobileUrls\"})"
   ]
  },
  {
   "cell_type": "markdown",
   "metadata": {},
   "source": [
    "Let's count the number of visit to the Dutch newswebsite _NOS.nl_ by first defining a regular expression."
   ]
  },
  {
   "cell_type": "code",
   "execution_count": null,
   "metadata": {},
   "outputs": [],
   "source": [
    "isNOSUrl = dataFramePassiveDataKitBetweenWaves['URL'].str.match(\"^(http:\\/\\/|https:\\/\\/)?([a-z0-9]+\\.)?nos.nl(\\/.*)?$\")"
   ]
  },
  {
   "cell_type": "markdown",
   "metadata": {},
   "source": [
    "We can count the URL's per participant."
   ]
  },
  {
   "cell_type": "code",
   "execution_count": null,
   "metadata": {},
   "outputs": [],
   "source": [
    "countNOSUrlsBetweenWaves = dataFramePassiveDataKitBetweenWaves[isNOSUrl].groupby(['Source'])['URL'].count().to_frame()\n",
    "countNOSUrlsBetweenWaves = countNOSUrlsBetweenWaves.rename(columns={\"URL\": \"Count nos.nl\"})\n",
    "countNOSUrlsBetweenWaves.to_csv(\"tables\\CountNOSBetweenWaves.csv\")\n",
    "countNOSUrlsBetweenWaves.head(3)"
   ]
  },
  {
   "cell_type": "markdown",
   "metadata": {},
   "source": [
    "Let's count the number of visit to the UK news website _The Guardian_ by first defining a regular expression."
   ]
  },
  {
   "cell_type": "code",
   "execution_count": null,
   "metadata": {},
   "outputs": [],
   "source": [
    "isGuardianUrl = dataFramePassiveDataKitBetweenWaves['URL'].str.match(\"^(http:\\/\\/|https:\\/\\/)?([a-z0-9]+\\.)?theguardian.com(\\/.*)?$\")"
   ]
  },
  {
   "cell_type": "markdown",
   "metadata": {},
   "source": [
    "We can count the URL's per participant."
   ]
  },
  {
   "cell_type": "code",
   "execution_count": null,
   "metadata": {},
   "outputs": [],
   "source": [
    "countGuardianUrlsBetweenWaves = dataFramePassiveDataKitBetweenWaves[isGuardianUrl].groupby(['Source'])['URL'].count().to_frame()\n",
    "countGuardianUrlsBetweenWaves = countGuardianUrlsBetweenWaves.rename(columns={\"URL\": \"Count The Guardian\"})\n",
    "countGuardianUrlsBetweenWaves.to_csv(\"tables\\CountTheGuardianBetweenWaves.csv\")\n",
    "countGuardianUrlsBetweenWaves.head(3)"
   ]
  },
  {
   "cell_type": "markdown",
   "metadata": {},
   "source": [
    "Let's count the number of visit to _Facebook_ by first defining a regular expression."
   ]
  },
  {
   "cell_type": "code",
   "execution_count": null,
   "metadata": {},
   "outputs": [],
   "source": [
    "isFacebookUrl = dataFramePassiveDataKitBetweenWaves['URL'].str.match(\"^(http:\\/\\/|https:\\/\\/)?([a-z0-9]+\\.)?facebook.com(\\/.*)?$\")"
   ]
  },
  {
   "cell_type": "markdown",
   "metadata": {},
   "source": [
    "We can count the URL's per participant."
   ]
  },
  {
   "cell_type": "code",
   "execution_count": null,
   "metadata": {
    "scrolled": true
   },
   "outputs": [],
   "source": [
    "countFacebookUrlsBetweenWaves = dataFramePassiveDataKitBetweenWaves[isFacebookUrl].groupby(['Source'])['URL'].count().to_frame()\n",
    "countFacebookUrlsBetweenWaves = countFacebookUrlsBetweenWaves.rename(columns={\"URL\": \"Count Facebook\"})\n",
    "countFacebookUrlsBetweenWaves.to_csv(\"tables\\CountFacebookBetweenWaves.csv\")\n",
    "countFacebookUrlsBetweenWaves.head(3)"
   ]
  },
  {
   "cell_type": "markdown",
   "metadata": {},
   "source": [
    "Let's count the number of visit a selection of news websites."
   ]
  },
  {
   "cell_type": "code",
   "execution_count": null,
   "metadata": {},
   "outputs": [],
   "source": [
    "newsList = 'volkskrant|telegraaf|nu\\.|ad\\.|nos\\.nl|fd\\.|rd\\.|nd\\.nl'\\\n",
    "'|metro\\.|nieuws|dagblad|bd\\.|krant|nrc|geenstijl|parool|trouw\\.|fok\\.'\\\n",
    "'|destentor|gelderlander|ed\\.nl|bndestem|pzc\\.nl|tubantia|limburger|'\\\n",
    "'zwartewaterkrant|gva|demorgen|tijd\\.be|hbvl|hln|standaard\\.be'\\\n",
    "'|dvhn|lc\\.|gooieneemlander|barneveldsekrant|amsterdamweekly|courant|'\\\n",
    "'herautonline|mooirooi|gezinsbode'"
   ]
  },
  {
   "cell_type": "markdown",
   "metadata": {},
   "source": [
    "This list is added to a regular expression."
   ]
  },
  {
   "cell_type": "code",
   "execution_count": null,
   "metadata": {},
   "outputs": [],
   "source": [
    "isNewsUrl = dataFramePassiveDataKitBetweenWaves['URL'].str.match(\"^(http:\\/\\/|https:\\/\\/)?([a-z0-9]+\\.)?(\" + newsList + \")(.*)?$\")"
   ]
  },
  {
   "cell_type": "markdown",
   "metadata": {},
   "source": [
    "We can count the URL's per participant."
   ]
  },
  {
   "cell_type": "code",
   "execution_count": null,
   "metadata": {
    "scrolled": true
   },
   "outputs": [],
   "source": [
    "countNewsUrlsBetweenWaves = dataFramePassiveDataKitBetweenWaves[isNewsUrl].groupby(['Source'])['URL'].count().to_frame()\n",
    "countNewsUrlsBetweenWaves = countNewsUrlsBetweenWaves.rename(columns={\"URL\": \"Count News\"})\n",
    "countNewsUrlsBetweenWaves.to_csv(\"tables\\CountNewsBetweenWaves.csv\")\n",
    "countNewsUrlsBetweenWaves.head(3)"
   ]
  },
  {
   "cell_type": "markdown",
   "metadata": {},
   "source": [
    "Let's also do this for the first wave of data, which contains more URL in total. The computation may be slow."
   ]
  },
  {
   "cell_type": "code",
   "execution_count": null,
   "metadata": {},
   "outputs": [],
   "source": [
    "isNewsUrlFirstWave = passiveDataKitFirstWave['URL'].str.match(\"^(http:\\/\\/|https:\\/\\/)?([a-z0-9]+\\.)?(\" + newsList + \")(.*)?$\")"
   ]
  },
  {
   "cell_type": "code",
   "execution_count": null,
   "metadata": {
    "scrolled": true
   },
   "outputs": [],
   "source": [
    "countNewsUrlsFirstWave = passiveDataKitFirstWave[isNewsUrlFirstWave].groupby(['Source'])['URL'].count().to_frame()\n",
    "countNewsUrlsFirstWave = countNewsUrlsFirstWave.rename(columns={\"URL\": \"Count News\"})\n",
    "countNewsUrlsFirstWave.to_csv(\"tables\\CountNewsFirstWave.csv\")\n",
    "countNewsUrlsFirstWave.head(3)"
   ]
  },
  {
   "cell_type": "markdown",
   "metadata": {},
   "source": [
    "End of _Jupyter Notebook_."
   ]
  }
 ],
 "metadata": {
  "kernelspec": {
   "display_name": "Python 3",
   "language": "python",
   "name": "python3"
  },
  "language_info": {
   "codemirror_mode": {
    "name": "ipython",
    "version": 3
   },
   "file_extension": ".py",
   "mimetype": "text/x-python",
   "name": "python",
   "nbconvert_exporter": "python",
   "pygments_lexer": "ipython3",
   "version": "3.6.6"
  }
 },
 "nbformat": 4,
 "nbformat_minor": 2
}
